{
 "cells": [
  {
   "cell_type": "code",
   "execution_count": 50,
   "source": [
    "import requests\r\n",
    "import pandas as pd\r\n",
    "import lxml\r\n",
    "from bs4 import BeautifulSoup\r\n",
    "from itertools import zip_longest\r\n",
    "import csv\r\n",
    "# URL from Wuzzaf : searching for machine learning jobs\r\n",
    "site = requests.get(\"https://wuzzuf.net/search/jobs/?q=machine+learning&a=hpb\")\r\n",
    "# Extracting site content\r\n",
    "src = site.content \r\n",
    "# Passing content to the BeautifulSoup Constructor\r\n",
    "soup = BeautifulSoup(src, \"lxml\")\r\n"
   ],
   "outputs": [],
   "metadata": {}
  },
  {
   "cell_type": "code",
   "execution_count": 36,
   "source": [
    "# Finding (job_title , full or Part time , level of the job )\r\n",
    "job_title = soup.find_all('h2', {'class' : 'css-m604qf'} )\r\n",
    "time = soup.find_all('span', {'class' : 'css-1ve4b75 eoyjyou0'})\r\n",
    "level = soup.find_all('a', {'class' : 'css-o171kl'})"
   ],
   "outputs": [],
   "metadata": {}
  },
  {
   "cell_type": "code",
   "execution_count": 37,
   "source": [
    "# After returning tags with specified classes for each feature , extracting text for each\r\n",
    "job_title = [x.text for x in job_title] \r\n",
    "time = [x.text for x in time] \r\n",
    "levels = {'Experienced': 1 , 'Entry Level' : 2}\r\n",
    "level = [x.text for x in level if x.text in levels.keys()] "
   ],
   "outputs": [],
   "metadata": {}
  },
  {
   "cell_type": "code",
   "execution_count": 49,
   "source": [
    "# printing finished lists\r\n",
    "print('Titles : ', job_title )\r\n",
    "print('Time : ', time)\r\n",
    "print('Levels : ', level)"
   ],
   "outputs": [
    {
     "output_type": "stream",
     "name": "stdout",
     "text": [
      "Titles :  ['Machine Learning Research Engineer', 'Machine Operators', 'Junior C++ Developer', 'Junior Data Scientist - Temporary Role', 'Junior Data Scientist/ML Engineer', 'Pre Sales Engineer', 'Senior Research Scientist', 'Data Science Instructor', 'Full Stack Developer', 'Big Data Engineer', 'Natural Language Processing (NLP) Intern- 3 months Internship', 'English Teacher For KG & Primary Stages', 'Data Scientist', 'Senior Data Scientist', 'Graduate Internship - Chat Bot Software Developer']\n",
      "Time :  ['Full time', 'Full time', 'Full time', 'Part time', 'Full time', 'Full time', 'Full time', 'Part time', 'Work from home', 'Full time', 'Part time', 'Full time', 'Full time', 'Internship', 'Part time', 'Work from home', 'Full time', 'Full time', 'Internship']\n",
      "Levels :  ['Experienced', 'Entry Level', 'Entry Level', 'Entry Level', 'Entry Level', 'Entry Level', 'Experienced', 'Entry Level', 'Experienced', 'Experienced', 'Entry Level', 'Entry Level', 'Experienced', 'Experienced', 'Entry Level']\n"
     ]
    }
   ],
   "metadata": {}
  },
  {
   "cell_type": "code",
   "execution_count": 62,
   "source": [
    "# only 10 rows due to capturing error in the time feature\r\n",
    "data = {\r\n",
    "    'title' : job_title[0:10],\r\n",
    "    'time' : time [0:10],\r\n",
    "    'level' : level[0:10]\r\n",
    "}\r\n",
    "data = pd.DataFrame(data)\r\n",
    "data"
   ],
   "outputs": [
    {
     "output_type": "execute_result",
     "data": {
      "text/html": [
       "<div>\n",
       "<style scoped>\n",
       "    .dataframe tbody tr th:only-of-type {\n",
       "        vertical-align: middle;\n",
       "    }\n",
       "\n",
       "    .dataframe tbody tr th {\n",
       "        vertical-align: top;\n",
       "    }\n",
       "\n",
       "    .dataframe thead th {\n",
       "        text-align: right;\n",
       "    }\n",
       "</style>\n",
       "<table border=\"1\" class=\"dataframe\">\n",
       "  <thead>\n",
       "    <tr style=\"text-align: right;\">\n",
       "      <th></th>\n",
       "      <th>title</th>\n",
       "      <th>time</th>\n",
       "      <th>level</th>\n",
       "    </tr>\n",
       "  </thead>\n",
       "  <tbody>\n",
       "    <tr>\n",
       "      <th>0</th>\n",
       "      <td>Machine Learning Research Engineer</td>\n",
       "      <td>Full time</td>\n",
       "      <td>Experienced</td>\n",
       "    </tr>\n",
       "    <tr>\n",
       "      <th>1</th>\n",
       "      <td>Machine Operators</td>\n",
       "      <td>Full time</td>\n",
       "      <td>Entry Level</td>\n",
       "    </tr>\n",
       "    <tr>\n",
       "      <th>2</th>\n",
       "      <td>Junior C++ Developer</td>\n",
       "      <td>Full time</td>\n",
       "      <td>Entry Level</td>\n",
       "    </tr>\n",
       "    <tr>\n",
       "      <th>3</th>\n",
       "      <td>Junior Data Scientist - Temporary Role</td>\n",
       "      <td>Part time</td>\n",
       "      <td>Entry Level</td>\n",
       "    </tr>\n",
       "    <tr>\n",
       "      <th>4</th>\n",
       "      <td>Junior Data Scientist/ML Engineer</td>\n",
       "      <td>Full time</td>\n",
       "      <td>Entry Level</td>\n",
       "    </tr>\n",
       "    <tr>\n",
       "      <th>5</th>\n",
       "      <td>Pre Sales Engineer</td>\n",
       "      <td>Full time</td>\n",
       "      <td>Entry Level</td>\n",
       "    </tr>\n",
       "    <tr>\n",
       "      <th>6</th>\n",
       "      <td>Senior Research Scientist</td>\n",
       "      <td>Full time</td>\n",
       "      <td>Experienced</td>\n",
       "    </tr>\n",
       "    <tr>\n",
       "      <th>7</th>\n",
       "      <td>Data Science Instructor</td>\n",
       "      <td>Part time</td>\n",
       "      <td>Entry Level</td>\n",
       "    </tr>\n",
       "    <tr>\n",
       "      <th>8</th>\n",
       "      <td>Full Stack Developer</td>\n",
       "      <td>Work from home</td>\n",
       "      <td>Experienced</td>\n",
       "    </tr>\n",
       "    <tr>\n",
       "      <th>9</th>\n",
       "      <td>Big Data Engineer</td>\n",
       "      <td>Full time</td>\n",
       "      <td>Experienced</td>\n",
       "    </tr>\n",
       "  </tbody>\n",
       "</table>\n",
       "</div>"
      ],
      "text/plain": [
       "                                    title            time        level\n",
       "0      Machine Learning Research Engineer       Full time  Experienced\n",
       "1                       Machine Operators       Full time  Entry Level\n",
       "2                    Junior C++ Developer       Full time  Entry Level\n",
       "3  Junior Data Scientist - Temporary Role       Part time  Entry Level\n",
       "4       Junior Data Scientist/ML Engineer       Full time  Entry Level\n",
       "5                      Pre Sales Engineer       Full time  Entry Level\n",
       "6               Senior Research Scientist       Full time  Experienced\n",
       "7                 Data Science Instructor       Part time  Entry Level\n",
       "8                    Full Stack Developer  Work from home  Experienced\n",
       "9                       Big Data Engineer       Full time  Experienced"
      ]
     },
     "metadata": {},
     "execution_count": 62
    }
   ],
   "metadata": {}
  },
  {
   "cell_type": "code",
   "execution_count": 45,
   "source": [
    "# Adding feature rows to csv file\r\n",
    "l = [job_title , time , level]\r\n",
    "l = zip_longest(*l)\r\n",
    "l"
   ],
   "outputs": [
    {
     "output_type": "execute_result",
     "data": {
      "text/plain": [
       "<itertools.zip_longest at 0x7f8fac8>"
      ]
     },
     "metadata": {},
     "execution_count": 45
    }
   ],
   "metadata": {}
  },
  {
   "cell_type": "code",
   "execution_count": 47,
   "source": [
    "with open('myjobs.csv','w') as myfile :\r\n",
    "    wr = csv.writer(myfile)\r\n",
    "    wr.writerow(['job_title' , 'time' , 'level'])\r\n",
    "    wr.writerows(l)"
   ],
   "outputs": [],
   "metadata": {}
  }
 ],
 "metadata": {
  "orig_nbformat": 4,
  "language_info": {
   "name": "python",
   "version": "3.8.2",
   "mimetype": "text/x-python",
   "codemirror_mode": {
    "name": "ipython",
    "version": 3
   },
   "pygments_lexer": "ipython3",
   "nbconvert_exporter": "python",
   "file_extension": ".py"
  },
  "kernelspec": {
   "name": "python3",
   "display_name": "Python 3.8.2 32-bit"
  },
  "interpreter": {
   "hash": "b8605d80b8819e18d5d391d0da77bd7c8136a2c889cb1bac809e51d7577dfad4"
  }
 },
 "nbformat": 4,
 "nbformat_minor": 2
}